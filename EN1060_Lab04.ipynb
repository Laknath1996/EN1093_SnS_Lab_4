{
 "cells": [
  {
   "source": [
    "![](https://drive.google.com/uc?id=174GvIzMMyQRPI7nMieOCYl3BKth-YDKu)"
   ],
   "cell_type": "markdown",
   "metadata": {}
  },
  {
   "source": [
    "---\n",
    "**Experiment 4: $z$ - Transform and Laplace Transform**\n",
    "\n",
    "\n",
    "---\n",
    "\n",
    "**Objective:** To analyze signals and systems using z-transforms and Laplace transforms.\n",
    "\n",
    "**Outcome:**   After successfully completion of this session, the student would be able to  \n",
    "\n",
    "* Find z-transforms and inverses of signals using python\n",
    "* Identify discrete-time filters\n",
    "* Apply filters on discrete-time signals\n",
    "\n",
    "**Equipment Required:** \n",
    "*   A personal computer.\n",
    "*   Python with NumPy, SciPy, Matplotlib.\n",
    "*   Speakers\n",
    "\n",
    "**Components Required:** None\n"
   ],
   "cell_type": "markdown",
   "metadata": {}
  },
  {
   "source": [
    "# $z$ - Transform\n",
    "\n",
    "The $z$ - transform is an important tool available for processing discrete-time signals. It is used to convert a discrete-time signal into a complex frequency domain representation. It can also be considered as the discrete-time equivalent of the Laplace transform."
   ],
   "cell_type": "markdown",
   "metadata": {}
  },
  {
   "source": [
    "## $z$ - Transform and its Inverse Using Python\n",
    "\n",
    "### Poles and Zeros \n",
    "\n",
    "Poles and zeros can be used to describe a transfer function. They reveal important properties of a given transfer function such as its behavior, stability etc.\n",
    "\n",
    "The following cells provide an incomplete code on finding and plotting poles and zeros of a given transfer function. Complete ```pole_zero_pot``` function in cell [[1]] so that it will plot poles and zeros provided to the function as inputs. More details about the function are provided with the code.\n"
   ],
   "cell_type": "markdown",
   "metadata": {}
  },
  {
   "source": [
    "First, import the following libraries. "
   ],
   "cell_type": "markdown",
   "metadata": {}
  },
  {
   "cell_type": "code",
   "execution_count": null,
   "metadata": {},
   "outputs": [],
   "source": [
    "# cell[0]\n",
    "\n",
    "# imports\n",
    "import matplotlib.pyplot as plt\n",
    "import numpy as np\n",
    "from scipy import signal"
   ]
  },
  {
   "cell_type": "code",
   "execution_count": null,
   "metadata": {},
   "outputs": [],
   "source": [
    "# cell[1]\n",
    "\n",
    "# examine and complete this function so as to plot poles and zeros on an imaginary plane\n",
    "def pole_zero_plot(poles, zeros):\n",
    "    '''Plots poles and zeros on a complex plane\n",
    "\n",
    "    Args:\n",
    "        poles (complex array): Array of poles. Consists of complex numbers.\n",
    "        zeros (complex array): Array of zeros. Consists of complex numbers.    \n",
    "    \n",
    "    Real and imaginary parts of poles/zeros can be accessed as followed (consider x as a pole/zero):\n",
    "        x_real = x.real\n",
    "        x_imag = x.imag        \n",
    "    '''\n",
    "    \n",
    "    fig, ax = plt.subplots(1, 1, figsize=(18,9))\n",
    "    \n",
    "    for i, zero in enumerate(zeros):\n",
    "        # EDIT HERE\n",
    "        ax.plot(<---->, <---->, 'bo', markersize=10, fillstyle='none', label='zeros' if i==0 else \"\")    \n",
    "    for i, pole in enumerate(poles):\n",
    "        # EDIT HERE\n",
    "        ax.plot(<---->, <---->, 'rx', markersize=10, label='poles' if i==0 else \"\")\n",
    "    # grid\n",
    "    ax.grid(True)\n",
    "    # centering x axis\n",
    "    ax.set_xlim([-max(abs(ax.get_xlim()[0]), abs(ax.get_xlim()[1]))-1, max(abs(ax.get_xlim()[0]), abs(ax.get_xlim()[1]))+1])\n",
    "    # centering y axis\n",
    "    ax.set_ylim([-max(abs(ax.get_ylim()[0]), abs(ax.get_ylim()[1]))-1, max(abs(ax.get_ylim()[0]), abs(ax.get_ylim()[1]))+1])\n",
    "    # plot real and imaginary axes\n",
    "    ax.plot([ax.get_xlim()[0], ax.get_xlim()[1]], [0, 0], 'k')\n",
    "    ax.plot([0, 0], [ax.get_ylim()[0], ax.get_ylim()[1]], 'k')\n",
    "    \n",
    "    plt.legend()\n",
    "    plt.show()"
   ]
  },
  {
   "source": [
    "Consider the following general transfer function $H(z)$.\n",
    "\n",
    "$$ H(z) = \\frac{b_0 z^M + b_1 z^{M-1} + \\dots + b_M}{a_0 z^N + a_1 z^{N-1} + \\dots + a_N} = K \\frac{(z-z_0)(z-z_1) \\dots (z-z_M)}{(z-p_0)(z-p_1) \\dots (z-p_N)} $$\n",
    "\n",
    "Cell [[2]] introduces the ```scipy.signal``` function ```tf2zpk``` that give poles, zeros and gain of a given input transfer function. This function is described below."
   ],
   "cell_type": "markdown",
   "metadata": {}
  },
  {
   "cell_type": "markdown",
   "metadata": {},
   "source": [
    "**`signal.tf2zpk(b, a)`**\n",
    "-----\n",
    "Return zero, pole, gain (z, p, k) representation from a numerator,\n",
    "denominator representation of a linear filter.\n",
    "\n",
    "**Parameters**\n",
    "\n",
    "* b : array_like (Numerator polynomial coefficients)\n",
    "* a : array_like (Denominator polynomial coefficients) \n",
    "\n",
    "**Returns**\n",
    "\n",
    "* z : ndarray (Zeros of the transfer function)\n",
    "* p : ndarray (Poles of the transfer function)\n",
    "* k : float (System gain)\n",
    "\n",
    "**Notes**\n",
    "\n",
    "If some values of `b` are too close to 0, they are removed. In that case,\n",
    "a BadCoefficients warning is emitted.\n",
    "\n",
    "The `b` and `a` arrays are interpreted as coefficients for positive,\n",
    "descending powers of the transfer function variable.  So the inputs\n",
    "`b = [b_0, b_1, ..., b_M]` and `a =[a_0, a_1, ..., a_N]`\n",
    "can represent an analog filter of the form:\n",
    "\n",
    "\\begin{align}\n",
    "    H(s) = \\frac\n",
    "    {b_0 s^M + b_1 s^{(M-1)} + \\cdots + b_M}\n",
    "    {a_0 s^N + a_1 s^{(N-1)} + \\cdots + a_N}\n",
    "\\end{align}\n",
    "or a discrete-time filter of the form:\n",
    "\n",
    "\\begin{align}\n",
    "    H(z) = \\frac\n",
    "    {b_0 z^M + b_1 z^{(M-1)} + \\cdots + b_M}\n",
    "    {a_0 z^N + a_1 z^{(N-1)} + \\cdots + a_N}\n",
    "\\end{align}\n",
    "\n",
    "This \"positive powers\" form is found more commonly in controls\n",
    "engineering.  If `M` and `N` are equal (which is true for all filters\n",
    "generated by the bilinear transform), then this happens to be equivalent\n",
    "to the \"negative powers\" discrete-time form preferred in DSP:\n",
    "\n",
    "\\begin{align}\n",
    "    H(z) = \\frac\n",
    "    {b_0 + b_1 z^{-1} + \\cdots + b_M z^{-M}}\n",
    "    {a_0 + a_1 z^{-1} + \\cdots + a_N z^{-N}}\n",
    "\\end{align}\n",
    "Although this is true for common filters, remember that this is not true\n",
    "in the general case.  If `M` and `N` are not equal, the discrete-time\n",
    "transfer function coefficients must first be converted to the \"positive powers\" form before finding the poles and zeros.\n",
    "\n",
    "see https://docs.scipy.org/doc/scipy/reference/generated/scipy.signal.tf2zpk.html for the same documentation. \n"
   ]
  },
  {
   "source": [
    "Consider a system characterized by the following transfer function. \n",
    "\n",
    "$$ H(z) = \\frac{8z^2 - 4z}{8z^2 + 6z + 1} $$\n",
    "\n",
    "Edit the following cell accordingly to obtain the pole-zero plot of the above system."
   ],
   "cell_type": "markdown",
   "metadata": {}
  },
  {
   "cell_type": "code",
   "execution_count": null,
   "metadata": {},
   "outputs": [],
   "source": [
    "# cell[2]\n",
    "\n",
    "# CHANGE HERE\n",
    "b = [] # numerator coefficients\n",
    "a = [] # denomenator coefficients\n",
    "\n",
    "zeros, poles, k = signal.tf2zpk(b, a) \n",
    "\n",
    "pole_zero_plot(poles, zeros)"
   ]
  },
  {
   "cell_type": "markdown",
   "metadata": {},
   "source": [
    "### Residues\n",
    "\n",
    "A given transfer function $H(z)$ can be given in the form of residues, as shown below.\n",
    "\n",
    "$$ H(z) = \\frac{b_0 + b_1 z^{-1} + \\cdots + b_M z^{-M}}{a_0 + a_1 z^{-1} + \\cdots + a_N z^{-N}} = \\frac{r_0}{(1-p_0z^{-1})} + \\frac{r_1}{(1-p_1z^{-1})} + \\cdots + k_0 + k_1 z^{-1} + \\cdots $$"
   ]
  },
  {
   "source": [
    "Residues can be used to find out the inverse transform of a given transfer function conveniently. "
   ],
   "cell_type": "markdown",
   "metadata": {}
  },
  {
   "source": [
    "Cell [[3]] introduces the ```scipy.signal``` function ```residuez``` that gives the residues for a given input transfer function. This function is described below. "
   ],
   "cell_type": "markdown",
   "metadata": {}
  },
  {
   "cell_type": "markdown",
   "metadata": {},
   "source": [
    "**`signal.residuez(b, a)`**\n",
    "---\n",
    "\n",
    "Compute partial-fraction expansion of b(z) / a(z).\n",
    "\n",
    "If `M` is the degree of numerator `b` and `N` the degree of denominator\n",
    "`a`\n",
    "\n",
    "            b(z)     b[0] + b[1] z**(-1) + ... + b[M] z**(-M)\n",
    "    H(z) = ------ = ------------------------------------------\n",
    "            a(z)     a[0] + a[1] z**(-1) + ... + a[N] z**(-N)\n",
    "\n",
    "then the partial-fraction expansion H(z) is defined as\n",
    "\n",
    "             r[0]                   r[-1]\n",
    "     = --------------- + ... + ---------------- + k[0] + k[1]z**(-1) ...\n",
    "       (1-p[0]z**(-1))         (1-p[-1]z**(-1))\n",
    "\n",
    "If there are any repeated roots (closer than `tol`), then the partial\n",
    "fraction expansion has terms like\n",
    "\n",
    "         r[i]              r[i+1]                    r[i+n-1]\n",
    "    -------------- + ------------------ + ... + ------------------\n",
    "    (1-p[i]z**(-1))  (1-p[i]z**(-1))**2         (1-p[i]z**(-1))**n\n",
    "\n",
    "This function is used for polynomials in negative powers of z,\n",
    "such as digital filters in DSP.  For positive powers, use `residue`.\n",
    "\n",
    "**Parameters** \n",
    "\n",
    "* b : array_like \\\n",
    "    Numerator polynomial coefficients. \\\n",
    "* a : array_like \\\n",
    "    Denominator polynomial coefficients. \n",
    "\n",
    "**Returns**\n",
    "\n",
    "* r : ndarray \\\n",
    "    Residues. \\\n",
    "* p : ndarray \\\n",
    "    Poles. \\\n",
    "* k : ndarray \\\n",
    "    Coefficients of the direct polynomial term.\n",
    "\n",
    "see https://docs.scipy.org/doc/scipy/reference/generated/scipy.signal.residuez.html for the same documentation."
   ]
  },
  {
   "source": [
    "Consider a system characterized by the following transfer function. \n",
    "\n",
    "$$ H(z) = \\frac{8z^2 - 4z}{8z^2 + 6z + 1} $$\n",
    "\n",
    "Edit the following cell accordingly to obtain the residues of the above system."
   ],
   "cell_type": "markdown",
   "metadata": {}
  },
  {
   "cell_type": "code",
   "execution_count": null,
   "metadata": {
    "scrolled": true
   },
   "outputs": [],
   "source": [
    "# cell[3]\n",
    "\n",
    "# CHANGE HERE\n",
    "b = [] # numerator coefficients\n",
    "a = [] # denomenator coefficients\n",
    "\n",
    "signal.residuez(b, a)"
   ]
  },
  {
   "source": [
    "Using the python functions described above and your knowledge on $z$ - transforms and their inverse, obtain the poles, zeros, pole-zero plot, and the inverse of the following transfer functions."
   ],
   "cell_type": "markdown",
   "metadata": {}
  },
  {
   "source": [
    "1. $H(z) = \\frac{8 - 4z^{-1}}{z^{-2} + 6z^{-1} + 8} $"
   ],
   "cell_type": "markdown",
   "metadata": {}
  },
  {
   "source": [
    "* Poles = $-0.5, -0.25$\n",
    "* Zeros = $0, 0.5$\n",
    "\n",
    "Plot the pole-zero plot below using the functions mentioned above. "
   ],
   "cell_type": "markdown",
   "metadata": {}
  },
  {
   "cell_type": "code",
   "execution_count": null,
   "metadata": {},
   "outputs": [],
   "source": [
    "#### Enter Code ###\n",
    "\n"
   ]
  },
  {
   "source": [
    "* Inverse = $4(-0.5)^nu[n] - 3(-0.25)^nu[n]$"
   ],
   "cell_type": "markdown",
   "metadata": {}
  },
  {
   "source": [
    "2. $H(z) = \\frac{z^3}{z^3 - z^2 - z - 2} $"
   ],
   "cell_type": "markdown",
   "metadata": {}
  },
  {
   "source": [
    "* Poles = <-- type in your answer here -->\n",
    "* Zeros = <-- type in your answer here -->\n",
    "\n",
    "Plot the pole-zero plot below using the functions mentioned above. "
   ],
   "cell_type": "markdown",
   "metadata": {}
  },
  {
   "cell_type": "code",
   "execution_count": null,
   "metadata": {},
   "outputs": [],
   "source": [
    "#### Enter Code ###\n",
    "\n"
   ]
  },
  {
   "source": [
    "* Inverse = <-- type in your answer here using $\\LaTeX$ -->"
   ],
   "cell_type": "markdown",
   "metadata": {}
  },
  {
   "source": [
    "3. $H(z) = \\frac{0.6z^2}{z^3 - 0.5z^2 - 0.25z + 0.12} $"
   ],
   "cell_type": "markdown",
   "metadata": {}
  },
  {
   "source": [
    "* Poles = <-- type in your answer here -->\n",
    "* Zeros = <-- type in your answer here -->\n",
    "\n",
    "Plot the pole-zero plot below using the functions mentioned above. "
   ],
   "cell_type": "markdown",
   "metadata": {}
  },
  {
   "cell_type": "code",
   "execution_count": null,
   "metadata": {},
   "outputs": [],
   "source": [
    "#### Enter Code ###"
   ]
  },
  {
   "source": [
    "* Inverse = <-- type in your answer here using $\\LaTeX$ -->"
   ],
   "cell_type": "markdown",
   "metadata": {}
  },
  {
   "source": [
    "$\\color{red}{\\text{Please show your work up to this point to an instructor and get it marked}}$"
   ],
   "cell_type": "markdown",
   "metadata": {}
  },
  {
   "source": [
    "## Applications of Filters on Discrete-Time Signals"
   ],
   "cell_type": "markdown",
   "metadata": {}
  },
  {
   "cell_type": "markdown",
   "metadata": {},
   "source": [
    "### Digital Audio Filter"
   ]
  },
  {
   "source": [
    "Import the following libraries."
   ],
   "cell_type": "markdown",
   "metadata": {}
  },
  {
   "cell_type": "code",
   "execution_count": null,
   "metadata": {},
   "outputs": [],
   "source": [
    "! apt install libasound2-dev portaudio19-dev libportaudio2 libportaudiocpp0 ffmpeg"
   ]
  },
  {
   "cell_type": "code",
   "execution_count": null,
   "metadata": {},
   "outputs": [],
   "source": [
    "! pip install PyAudio==0.2.8"
   ]
  },
  {
   "cell_type": "code",
   "execution_count": null,
   "metadata": {},
   "outputs": [],
   "source": [
    "from google.colab import drive\n",
    "drive.mount('/content/drive')"
   ]
  },
  {
   "cell_type": "code",
   "execution_count": null,
   "metadata": {},
   "outputs": [],
   "source": [
    "# cell[4]\n",
    "\n",
    "# imports\n",
    "import numpy as np\n",
    "import pyaudio\n",
    "import wave\n",
    "from scipy.fftpack import fft\n",
    "from scipy import signal\n",
    "import scipy.io.wavfile as sw\n",
    "import matplotlib.pyplot as plt\n",
    "import struct"
   ]
  },
  {
   "source": [
    "Run cell [[5]] to load the “africa-toto.wav” file and create a ```PyAudio``` stream. ```PyAudio``` is used to play the loaded wav file. This cell also define some variables such as ```n_channels```, ```fs``` and ```chunk``` that will be used in the following cells. Note that ```fs``` is the sample rate of the audio."
   ],
   "cell_type": "markdown",
   "metadata": {}
  },
  {
   "cell_type": "code",
   "execution_count": null,
   "metadata": {},
   "outputs": [],
   "source": [
    "# cell[5]\n",
    "\n",
    "# set up to read an audio file\n",
    "\n",
    "# open wav file\n",
    "wf = wave.open(\"/africa-toto.wav\", 'rb')\n",
    "channels=wf.getnchannels()\n",
    "dtype = '<i2' # little-endian two-byte (int16) signed integers \n",
    "\n",
    "n_channels=wf.getnchannels() # no. of chennels in the audio\n",
    "fs = wf.getframerate() # frame rate of audio \n",
    "chunk = fs # no. of audio frames played at a time\n",
    "\n",
    "# instantiate PyAudio (for playing the sound track)\n",
    "p = pyaudio.PyAudio()\n",
    "\n",
    "stream = np.array(np.zeros(n_channels), dtype=np.int16)\n",
    "\n",
    "# open stream (for playing the sound track)\n",
    "# stream = p.open(format=p.get_format_from_width(wf.getsampwidth()),\n",
    "#                 channels=n_channels)\n",
    "\n",
    "# play the new audio\n",
    "Audio('/africa-toto.wav')"
   ]
  },
  {
   "source": [
    "Cell [[6]] plays the audio and collects the audio samples as numerical values to the numpy array ```x```. Variables ```start``` and ```dur``` describe the audio segment that we use in our experiment from the original wav file."
   ],
   "cell_type": "markdown",
   "metadata": {}
  },
  {
   "cell_type": "code",
   "execution_count": null,
   "metadata": {
    "scrolled": true
   },
   "outputs": [],
   "source": [
    "# cell[6]\n",
    "\n",
    "start = 200 # audio starting time frame (s)\n",
    "dur = 10 # duration selected (s)\n",
    "\n",
    "wf.rewind() # reset readframe positin to the begining of the file\n",
    "wf.setpos(wf.tell()+start*fs) # seek to the needed starting position\n",
    "\n",
    "x = np.array([], dtype=np.int16) # initialize audio signal array\n",
    "for i in range(0, dur):\n",
    "    data = wf.readframes(chunk) # read an audio frame chunk\n",
    "    if data == '': # if the audio samples ended\n",
    "        break\n",
    "    sig_chunk = np.asarray(np.frombuffer(data, dtype=dtype)) # convert the frame chunk into a numpy array\n",
    "    x = np.concatenate((x, sig_chunk)) # add the signal chunk to the signal array\n",
    "    # stream.write(data) # play the audio chunk\n",
    "\n",
    "x = x[:] # pop stream init\n",
    "byte_stream = x.tobytes() # np array to bytes \n",
    "\n",
    "wfo = wave.open(\"/africa-toto_1.wav\", 'w') # writing the bot stream to a output wav file\n",
    "wfo.setnchannels(wf.getnchannels())\n",
    "wfo.setsampwidth(wf.getsampwidth())\n",
    "wfo.setframerate(wf.getframerate())\n",
    "wfo.writeframes(byte_stream)\n",
    "wfo.close()\n",
    "\n",
    "# play the new audio\n",
    "Audio('/africa-toto_1.wav')"
   ]
  },
  {
   "source": [
    "Cell [[7]] genreates a time domain visualization of the audio segment played. Examine the variables defined in the cell and identify their significance."
   ],
   "cell_type": "markdown",
   "metadata": {}
  },
  {
   "cell_type": "code",
   "execution_count": null,
   "metadata": {},
   "outputs": [],
   "source": [
    "# cell[7]\n",
    "\n",
    "# ploting original audio in time domain\n",
    "\n",
    "N = len(x) # number of audio samples (frames)\n",
    "T = 1/fs # time interval between frames\n",
    "t = np.linspace(0.0, N*T, N) # time axis for audio\n",
    "\n",
    "# plot original audio in time doamin\n",
    "fig, ax = plt.subplots(1, 1, figsize=(18,9))\n",
    "ax.grid(True)\n",
    "ax.plot(t, x, 'y')\n",
    "plt.show()"
   ]
  },
  {
   "source": [
    "Cell [[8]]generates a frequency domain visualization of the audio segment played. Examine the variables defined in the cell and identify their significance. The ```fft``` function from ```scipy.fftpack``` is used to get the discrete Fourier transform of a given signal. Discrete Fourier transform is a special case of the z-transform. Observe the frequency distribution for the audio sample played. You do not need extensive knowledge on the functionality of ```fft``` function to carry out this experiment.\n"
   ],
   "cell_type": "markdown",
   "metadata": {}
  },
  {
   "cell_type": "code",
   "execution_count": null,
   "metadata": {},
   "outputs": [],
   "source": [
    "# cell[8]\n",
    "\n",
    "# ploting original audio in frequency domain\n",
    "\n",
    "f = np.linspace(0.0, 1.0/(2.0*T), N//2) # frequency axis for audio\n",
    "xf = fft(x) # fft command converts x into the fourier domain (X)\n",
    "\n",
    "\n",
    "fig, ax = plt.subplots(1, 1, figsize=(18,9))\n",
    "ax.grid(True)\n",
    "ax.plot(f,  2.0/N * np.abs(xf[0:N//2]))\n",
    "\n",
    "plt.show()"
   ]
  },
  {
   "source": [
    "Cell [[9]] generates a visualization of the transfer function defined by ```a, b``` arrays. For this purpose we use ```signal.freqz```. Needed elements of this function is described in the notebook. Use different ```a, b``` arrays in the cell to generate different filters (transfer functions) named as filter (1), filter (2) & filter (3).\n",
    "\n",
    "```signal.freqz``` is described below."
   ],
   "cell_type": "markdown",
   "metadata": {}
  },
  {
   "cell_type": "markdown",
   "metadata": {},
   "source": [
    "**`signal.freqz( b, a=1)`**\n",
    "---\n",
    "\n",
    "Compute the frequency response of a digital filter.\n",
    "\n",
    "Given the M-order numerator `b` and N-order denominator `a` of a digital\n",
    "filter, compute its frequency response::\n",
    "                                            \n",
    "            b(z)     b[0] + b[1] z**(-1) + ... + b[M] z**(-M)\n",
    "    H(z) = ------ = ------------------------------------------\n",
    "            a(z)     a[0] + a[1] z**(-1) + ... + a[N] z**(-N)    \n",
    "\n",
    "**Parameters**\n",
    "\n",
    "* b : array_like \\\n",
    "    Numerator of a linear filter.  If `b` has dimension greater than 1, \\\n",
    "    it is assumed that the coefficients are stored in the first dimension, \\\n",
    "    and ``b.shape[1:]``, ``a.shape[1:]``, and the shape of the frequencies \\\n",
    "    array must be compatible for broadcasting. \\\n",
    "* a : array_like \\\n",
    "    Denominator of a linear filter.  If `b` has dimension greater than 1, \\\n",
    "    it is assumed that the coefficients are stored in the first dimension, \\\n",
    "    and ``b.shape[1:]``, ``a.shape[1:]``, and the shape of the frequencies \\\n",
    "    array must be compatible for broadcasting.\n",
    "\n",
    "\n",
    "**Returns**\n",
    "\n",
    "* w : ndarray \\\n",
    "    The frequencies at which `h` was computed, in the same units as `fs`. \\\n",
    "    By default, `w` is normalized to the range [0, pi) (radians/sample). \\\n",
    "* h : ndarray \\\n",
    "    The frequency response, as complex numbers. \n",
    "\n",
    "see https://docs.scipy.org/doc/scipy/reference/generated/scipy.signal.freqz.html for the same documentation."
   ]
  },
  {
   "cell_type": "code",
   "execution_count": null,
   "metadata": {},
   "outputs": [],
   "source": [
    "# cell[9]\n",
    "\n",
    "# CHANGE HERE\n",
    "b, a = [0.06745527, 0.13491055, 0.06745527],[ 1.,  -1.1429805 , 0.4128016] # filter (1)\n",
    "# b, a = [ 0.06745527,  0. ,  -0.13491055 , 0.,  0.06745527], [ 1., -1.94246878 , 2.1192024,  -1.21665164 , 0.4128016 ] # filter (2)\n",
    "# b, a = [ 0.39133577, -0.78267155,  0.39133577], [ 1.,  -0.36952738,  0.19581571] # filter (3)\n",
    "\n",
    "w, h = signal.freqz(b, a)\n",
    "f = w/(2*np.pi)*fs # adjusting for the needed frequency axis\n",
    "epsilon = 10e-10 # small value added to avoid zero in log\n",
    "\n",
    "# visualize filter\n",
    "fig, ax = plt.subplots(1, 1, figsize=(18,9))\n",
    "ax.grid(True)\n",
    "ax.plot(f, 20 * np.log10(abs(h+epsilon)), 'g')\n",
    "plt.show()"
   ]
  },
  {
   "source": [
    "Cell [[10]] filters the original audio signal generated in cell [[6]] using the filter defined in cell [[9]]. Complete the code to generate a time domain visualization of the resultant output (refer cell [[7]]). Compare this output and the output from the cell [[7]]."
   ],
   "cell_type": "markdown",
   "metadata": {}
  },
  {
   "cell_type": "code",
   "execution_count": null,
   "metadata": {},
   "outputs": [],
   "source": [
    "# cell[10]\n",
    "\n",
    "z=signal.lfilter(b, a, x) # filter the audio using the filter defined by b & a\n",
    "\n",
    "# EDIT HERE\n",
    "<------------------ # plot filtered audio \n",
    "------------------> # in time domain"
   ]
  },
  {
   "source": [
    "Write a code in cell [[11]] to generate the frequency domain samples and its visualization of the resultant output of the filter (refer cell [[8]])."
   ],
   "cell_type": "markdown",
   "metadata": {}
  },
  {
   "cell_type": "code",
   "execution_count": null,
   "metadata": {},
   "outputs": [],
   "source": [
    "# cell[11]\n",
    "\n",
    "# EDIT HERE\n",
    "<------------------ # plot filtered audio \n",
    "------------------> # in frequency domain"
   ]
  },
  {
   "source": [
    "Runcell [[12]] to play the filtered out audio signal. Pay attention to the nature of the audio."
   ],
   "cell_type": "markdown",
   "metadata": {}
  },
  {
   "cell_type": "code",
   "execution_count": null,
   "metadata": {},
   "outputs": [],
   "source": [
    "# cell[12]\n",
    "\n",
    "# play the filtered audio\n",
    "\n",
    "z_int16 = z.astype(np.int16)   \n",
    "z_byte  = z_int16.tobytes()\n",
    "\n",
    "wfo = wave.open(\"/africa-toto_2.wav\", 'w') # writing the bot stream to a output wav file\n",
    "wfo.setnchannels(wf.getnchannels())\n",
    "wfo.setsampwidth(wf.getsampwidth())\n",
    "wfo.setframerate(wf.getframerate())\n",
    "wfo.writeframes(z_byte)\n",
    "wfo.close()\n",
    "\n",
    "# play the new audio\n",
    "Audio('/africa-toto_2.wav')"
   ]
  },
  {
   "source": [
    "$\\color{red}{\\text{Please show your work up to this point to an instructor and get it marked}}$"
   ],
   "cell_type": "markdown",
   "metadata": {}
  },
  {
   "source": [
    "# Laplace Transform"
   ],
   "cell_type": "markdown",
   "metadata": {}
  },
  {
   "source": [
    "## Laplace Transform and Its Inverse"
   ],
   "cell_type": "markdown",
   "metadata": {}
  },
  {
   "cell_type": "markdown",
   "metadata": {},
   "source": [
    "### Fisrt Order System Analysis"
   ]
  },
  {
   "cell_type": "markdown",
   "metadata": {},
   "source": [
    "The standard form of a first order system is given by the equation,\n",
    "$$\n",
    "\\tau \\frac{dy(t)}{dt} + y(t) = x(t) \n",
    "$$\n",
    "\n",
    "where $\\tau$ is known as the time constant."
   ]
  },
  {
   "source": [
    "Find the expression for the transfer function $H(s)$ for the first order system defined in\n",
    "the above expression in Laplace domain (Hint :  $H(s) = Y(s) / X(s)$ where $Y(s)$ and $X(s)$ are Laplace Transforms of $y(t)$ and $x(t)$, respectively.)\n"
   ],
   "cell_type": "markdown",
   "metadata": {}
  },
  {
   "source": [
    "<-- type in your answer here -->"
   ],
   "cell_type": "markdown",
   "metadata": {}
  },
  {
   "source": [
    "Hence find the impulse response and step response of the first order system.\n",
    "(Hint: step response can be obtained by $s(t) = h(t) * u(t)$, where $u(t)$ is the unit step function.)"
   ],
   "cell_type": "markdown",
   "metadata": {}
  },
  {
   "source": [
    "<-- type in your answer here -->"
   ],
   "cell_type": "markdown",
   "metadata": {}
  },
  {
   "source": [
    "$\\color{red}{\\text{Please show your work up to this point to an instructor and get it marked}}$"
   ],
   "cell_type": "markdown",
   "metadata": {}
  },
  {
   "source": [
    "Consider the first order system given by the following RC (resistor-capacitor) circuit.\n",
    "   "
   ],
   "cell_type": "markdown",
   "metadata": {}
  },
  {
   "cell_type": "markdown",
   "metadata": {
    "metadata": {
     "deletable": false,
     "editable": false,
     "trusted": true
    }
   },
   "source": [
    "![](https://drive.google.com/uc?id=1hOY-5XQ9KBjU76b39J0iNfcaB5vhS9a2)"
   ]
  },
  {
   "source": [
    "Using Kirchhoff’s Voltage Law, we notice that, \n",
    "\n",
    "$$ v(t) = v_r(t) + v_c(t) $$\n",
    "\n",
    "Here, $v_c(t) = q(t)/C$ and $v_r(t) = Ri(t)$. $q(t)$ is the charge on the capacitor and $i(t) = \\frac{dq(t)}{dt}$. $R$ and $C$ are the resistance or the resistor and the capacitance of the capacitor respectively."
   ],
   "cell_type": "markdown",
   "metadata": {}
  },
  {
   "source": [
    "Taking $x(t) = v(t)$ and $y(t) = v_c(t)$, write the first order equation for the given RC circuit. (Hint : write $i(t)$ in terms of $v_c(t)$.)"
   ],
   "cell_type": "markdown",
   "metadata": {}
  },
  {
   "source": [
    "<-- type in your answer here -->"
   ],
   "cell_type": "markdown",
   "metadata": {}
  },
  {
   "source": [
    "Write the time constant $\\tau$ of the given RC circuit using $R$ and $C$."
   ],
   "cell_type": "markdown",
   "metadata": {}
  },
  {
   "source": [
    "<-- type in your answer here -->"
   ],
   "cell_type": "markdown",
   "metadata": {}
  },
  {
   "source": [
    "$\\color{red}{\\text{Please show your work up to this point to an instructor and get it marked}}$"
   ],
   "cell_type": "markdown",
   "metadata": {}
  },
  {
   "source": [
    "Cell [[14]] generates the impulse & step response of the above RC system for different values of $R$. Examine and complete the code in cell [[14]]\n",
    "using the expressions obtained above."
   ],
   "cell_type": "markdown",
   "metadata": {}
  },
  {
   "cell_type": "code",
   "execution_count": null,
   "metadata": {},
   "outputs": [],
   "source": [
    "# cell[14]\n",
    "\n",
    "import numpy as np\n",
    "import matplotlib.pyplot as plt\n",
    "\n",
    "c = 100 * 10**(-6) # F\n",
    "r_list = [3300, 10000, 15000, 30000] # Ohms\n",
    "v = 1 # V\n",
    "\n",
    "t = np.linspace(0,10,1000)\n",
    "\n",
    "fig, axes = plt.subplots(2, 1, sharex='all', figsize=(18,9))\n",
    "\n",
    "for r in r_list:\n",
    "    # EDIT HERE\n",
    "    tau = <---------> # time constant\n",
    "    h = <-----------> # impulse response\n",
    "    s = <-----------> # step response  \n",
    "\n",
    "    # plot step response [s(t)]\n",
    "    axes[0].plot(t,s, label='R = %d, Tau = %0.2f'%(r, tau))\n",
    "    axes[0].set_ylabel('$s(t)$')\n",
    "    axes[0].grid(True)\n",
    "    axes[0].set_title('Step response')\n",
    "\n",
    "    # plot impulse response [h(t)]\n",
    "    axes[1].plot(t,h, label='R = %d, Tau = %0.2f'%(r, tau))\n",
    "    axes[1].set_xlabel('$t$')\n",
    "    axes[1].set_ylabel('$h(t)$')\n",
    "    axes[1].grid(True)\n",
    "    axes[1].set_title('Impulse response')\n",
    "plt.legend()\n",
    "plt.show()"
   ]
  },
  {
   "source": [
    "Interpret the physical meaning of the step responses obtained for the system."
   ],
   "cell_type": "markdown",
   "metadata": {}
  },
  {
   "source": [
    "<-- type in your answer here -->"
   ],
   "cell_type": "markdown",
   "metadata": {}
  },
  {
   "cell_type": "markdown",
   "metadata": {},
   "source": [
    "### Second Order System Analysis"
   ]
  },
  {
   "cell_type": "markdown",
   "metadata": {},
   "source": [
    "The standard form of a second order system is given by the equation.\n",
    "\n",
    "$$\n",
    "\\frac{d^2y(t)}{dt^2} + 2\\zeta \\omega_n \\frac{dy(t)}{dt} + \\omega_n^2 y(t) = \\omega_n^2 x(t)\n",
    "$$\n",
    "\n",
    "where, $\\zeta$ and $\\omega_n$ are known as the damping ratio and undamped natural frequency respectively. \n"
   ]
  },
  {
   "source": [
    "Express the above time domain expression in Laplace domain. Take Laplace transforms of $x(t)$ and $y(t)$ as $X(s)$ and $Y(s)$, respectively. Assume $y(0) = y'(0) = 0$.\n"
   ],
   "cell_type": "markdown",
   "metadata": {}
  },
  {
   "source": [
    "<-- type in your answer here -->"
   ],
   "cell_type": "markdown",
   "metadata": {}
  },
  {
   "source": [
    "Hence obtain the expression for transfer function $H(s)$ for the second order system."
   ],
   "cell_type": "markdown",
   "metadata": {}
  },
  {
   "source": [
    "<-- type in your answer here -->"
   ],
   "cell_type": "markdown",
   "metadata": {}
  },
  {
   "source": [
    "$\\color{red}{\\text{Please show your work up to this point to an instructor and get it marked}}$"
   ],
   "cell_type": "markdown",
   "metadata": {}
  },
  {
   "source": [
    "Find the poles and the impulse response $h(t)$ of the second order system for the following cases of $\\zeta$.\n",
    "\n",
    "1. $0 \\leq \\zeta < 1$\n",
    "2. $\\zeta = 1$\n",
    "3. $\\zeta > 1$\n",
    "\n",
    "Hint : The denominator of $H(s)$ obtained above should be a quadratic expression of $s$. The roots of quadratic equation of the form $ax^2 + bx + c = 0$ can be given by, \n",
    "\n",
    "$$ x_1, x_2 = -\\frac{b}{2a} \\pm \\frac{\\sqrt{b^2-4ac}}{2a} $$\n",
    "\n",
    "Also, the quadratic expressionof the same form can be factorized as, \n",
    "\n",
    "$$ax^2 + bx + c = a(x-x_1)(x-x_2)$$"
   ],
   "cell_type": "markdown",
   "metadata": {}
  },
  {
   "source": [
    "Case 1 : $0 \\leq \\zeta < 1$\n",
    "\n",
    "* Poles = <-- type in your answer -->\n",
    "* Impulse Response $h(t)$ = <-- type in your answer -->\n",
    "\n",
    "Case 2 : $\\zeta = 1$\n",
    "\n",
    "* Poles = <-- type in your answer -->\n",
    "* Impulse Response $h(t)$ = <-- type in your answer -->\n",
    "\n",
    "Case 3 : $\\zeta > 1$\n",
    "\n",
    "* Poles = <-- type in your answer -->\n",
    "* Impulse Response $h(t)$ = <-- type in your answer -->"
   ],
   "cell_type": "markdown",
   "metadata": {}
  },
  {
   "source": [
    "Consider the second order system given by the following RLC (resistors-inductor-capacitor) circuit."
   ],
   "cell_type": "markdown",
   "metadata": {}
  },
  {
   "cell_type": "markdown",
   "metadata": {
    "metadata": {
     "deletable": false,
     "editable": false,
     "trusted": true
    }
   },
   "source": [
    "![title](https://drive.google.com/uc?id=1wx8blPYHD6EXUgQiWXcTIa4JacWYn9je)"
   ]
  },
  {
   "source": [
    "Using Kirchchoff's Voltage Law, we can show that, \n",
    "\n",
    "$$\n",
    "v(t) = v_r(t) + v_l(t) + v_c(t) \\\\\n",
    "v(t) = Ri(t) + L \\frac{di(t)}{dt} + \\frac{q(t)}{C} \\\\\n",
    "$$\n",
    "\n",
    "Here, $v_c(t) = q(t)/C, v_r(t) = Ri(t), v_l(t) = L\\frac{di(t)}{dt}$. $R, L, C$ are resistance, inductance, and capacitance, respectively. \n"
   ],
   "cell_type": "markdown",
   "metadata": {}
  },
  {
   "source": [
    "Taking $x(t) = v(t)$ and $y(t) = v_c(t)$, wirte the second order equation for the given RLC circuit. "
   ],
   "cell_type": "markdown",
   "metadata": {}
  },
  {
   "source": [
    "<-- type in your answer -->"
   ],
   "cell_type": "markdown",
   "metadata": {}
  },
  {
   "source": [
    "Write the damping ratio $\\zeta$ and the undamped natural frequency $\\omega_n$ of the given RLC cirucit using $R, L, C$. "
   ],
   "cell_type": "markdown",
   "metadata": {}
  },
  {
   "source": [
    "<-- type in your answer -->"
   ],
   "cell_type": "markdown",
   "metadata": {}
  },
  {
   "source": [
    "$\\color{red}{\\text{Please show your work up to this point to an instructor and get it marked}}$"
   ],
   "cell_type": "markdown",
   "metadata": {}
  },
  {
   "source": [
    "Complete the following code to obtain the unit step function. "
   ],
   "cell_type": "markdown",
   "metadata": {}
  },
  {
   "cell_type": "code",
   "execution_count": null,
   "metadata": {},
   "outputs": [],
   "source": [
    "# cell[15]\n",
    "\n",
    "# unit step function\n",
    "def u(t):\n",
    "    # EDIT HERE\n",
    "    <--------------->"
   ]
  },
  {
   "source": [
    "Examine the cell [[16]], [[17]], and [[18]]and complete them to obtain the plots of the step responses for different cases of $\\zeta$."
   ],
   "cell_type": "markdown",
   "metadata": {}
  },
  {
   "cell_type": "code",
   "execution_count": null,
   "metadata": {},
   "outputs": [],
   "source": [
    "# cell[16]\n",
    "\n",
    "# imports\n",
    "import numpy as np\n",
    "import matplotlib.pyplot as plt\n",
    "\n",
    "# 0 < zeta < 1\n",
    "\n",
    "l = 1 # H\n",
    "c = 4*10**(-6) # F\n",
    "r_list = [50, 100, 500]# Ohms\n",
    "t = np.linspace(0,.1,1000)\n",
    "\n",
    "# EDIT HERE\n",
    "wn = <--------->\n",
    "\n",
    "fig, ax = plt.subplots(1, 1, figsize=(18,9))\n",
    "\n",
    "for r in r_list:\n",
    "    # EDIT HERE\n",
    "    zeta = <------------>\n",
    "    h_under = <--------->\n",
    "    \n",
    "    s_under = signal.convolve(h_under, u(np.concatenate((-np.flip(t)[:-2], t))), mode='same')\n",
    "\n",
    "    ax.plot(t, s_under, label='R = %d, zeta = %0.2f'%(r, zeta))\n",
    "ax.grid(True)\n",
    "ax.set_xlabel('$t$')\n",
    "ax.set_ylabel('$s(t)$')\n",
    "plt.legend()\n",
    "plt.show()"
   ]
  },
  {
   "cell_type": "code",
   "execution_count": null,
   "metadata": {},
   "outputs": [],
   "source": [
    "# cell[17]\n",
    "\n",
    "# imports\n",
    "import numpy as np\n",
    "import matplotlib.pyplot as plt\n",
    "\n",
    "# zeta == 1\n",
    "\n",
    "r = 1000# Ohms\n",
    "l = 1 # H\n",
    "c = 4*10**(-6) # F\n",
    "\n",
    "t = np.linspace(0,.1,1000)\n",
    "\n",
    "# EDIT HERE\n",
    "wn = <--------->\n",
    "zeta = <--------->\n",
    "h_critical = <--------->\n",
    "s_critical = <--------->\n",
    "\n",
    "fig, ax = plt.subplots(1, 1, figsize=(18,9))\n",
    "\n",
    "ax.plot(t, s_critical, label='R = %d, zeta = 1'%(r))\n",
    "ax.grid(True)\n",
    "ax.set_xlabel('$t$')\n",
    "ax.set_ylabel('$s(t)$')\n",
    "plt.legend()\n",
    "plt.show()"
   ]
  },
  {
   "cell_type": "code",
   "execution_count": null,
   "metadata": {},
   "outputs": [],
   "source": [
    "# cell[18]\n",
    "\n",
    "# imports\n",
    "import numpy as np\n",
    "import matplotlib.pyplot as plt\n",
    "\n",
    "# zeta > 1\n",
    "\n",
    "l = 1 # H\n",
    "c = 4*10**(-6) # F\n",
    "r_list = [1100, 1500, 3000]# Ohms\n",
    "t = np.linspace(0,.1,1000)\n",
    "\n",
    "fig, ax = plt.subplots(1, 1, figsize=(18,9))\n",
    "\n",
    "# EDIT HERE\n",
    "wn = <--------->\n",
    "\n",
    "for r in r_list:\n",
    "    # EDIT HERE\n",
    "    zeta = <--------->\n",
    "    w1 = <--------->\n",
    "    w2 = <--------->\n",
    "    h_over = <--------->\n",
    "    s_over = <--------->\n",
    "    \n",
    "    ax.plot(t, s_over, label='R = %d, zeta = %0.2f'%(r, zeta))\n",
    "ax.grid(True)\n",
    "ax.set_xlabel('$t$')\n",
    "ax.set_ylabel('$s(t)$')\n",
    "plt.legend()\n",
    "plt.show()"
   ]
  },
  {
   "source": [
    "Run cell [[19]] to plot the one of each step responses types generated in cells [[16]], [[17]] & [[18]] on the same figure."
   ],
   "cell_type": "markdown",
   "metadata": {}
  },
  {
   "cell_type": "code",
   "execution_count": null,
   "metadata": {},
   "outputs": [],
   "source": [
    "# cell[19]\n",
    "\n",
    "# comparison\n",
    "\n",
    "fig, ax = plt.subplots(1, 1, figsize=(18,9))\n",
    "\n",
    "ax.plot(t, s_under, label='zeta = 0.5')\n",
    "ax.plot(t, s_critical, label='zeta = 1')\n",
    "ax.plot(t, s_over, label='zeta = 3')\n",
    "ax.grid(True)\n",
    "ax.set_xlabel('$t$')\n",
    "ax.set_ylabel('$s(t)$')\n",
    "plt.legend()\n",
    "plt.show()"
   ]
  },
  {
   "source": [
    "Comment on the differences of the step responses observed in the output of cell [[19]]."
   ],
   "cell_type": "markdown",
   "metadata": {}
  },
  {
   "source": [
    "<-- type in your answer -->"
   ],
   "cell_type": "markdown",
   "metadata": {}
  },
  {
   "source": [
    "$\\color{red}{\\text{Please show your work up to this point to an instructor and get it marked}}$"
   ],
   "cell_type": "markdown",
   "metadata": {}
  },
  {
   "source": [
    "## Application of Laplace transform in analyzing the stability of a system. "
   ],
   "cell_type": "markdown",
   "metadata": {}
  },
  {
   "cell_type": "markdown",
   "metadata": {},
   "source": [
    "### Cart pole : An Analysis of the Effect of Poles on the System Behaviour"
   ]
  },
  {
   "cell_type": "markdown",
   "metadata": {
    "metadata": {
     "deletable": false,
     "editable": false,
     "trusted": true
    }
   },
   "source": [
    "\n",
    "![](https://drive.google.com/uc?id=1uZCuV6BqLB373sBITZMWK2IDpV0d6Fys)\n"
   ]
  },
  {
   "source": [
    "A Cartpole system comprise of a pole mounted on a cart, that engages in a reverse pendulum motion. Here $\\theta(t)$, $a(t)$, $x(t)$ are angle of the pole created with the vertical, horizontal acceleration of the cart, angular velocity of the pole due to its weight at a given time $t$, respectively. Pole length is given by $L$ and the acceleration due to gravity is given by $g$.\n",
    "\n",
    "When the system is not provided with any external force, the system is unstable. Mathematical modeling of the system is described below. \n",
    "\n",
    "However, the system can be made stable by controlling a parameter such as the acceleration of the cart, with relation to the motion of the pole. This mean the system takes in to account its previous state to control its current state. We say that the system is using “feedback” to control itself."
   ],
   "cell_type": "markdown",
   "metadata": {}
  },
  {
   "source": [
    "Equation of the above system can be given by the expression,\n",
    "\n",
    "$$ l \\frac{d^2 \\theta(t)}{dt^2} = g \\sin[\\theta(t)] + lx(t) - a(t) \\cos[\\theta(t)]$$\n",
    "\n",
    "where $l=L/2$, $a(t)$ is the acceleration of the cart. For small angles of $\\theta(t)$ we can assume,\n",
    "\n",
    "$$ \\sin [\\theta(t)] \\approx \\theta(t) $$\n",
    "$$ \\cos [\\theta(t)] \\approx 1 $$\n",
    "\n",
    "These assumptions reduce the above expression to, \n",
    "\n",
    "$$ l \\frac{d^2 \\theta(t)}{dt^2} = g \\theta(t) + lx(t) -a(t) $$\n",
    "\n",
    "Applying Laplace transform to this expression, we get\n",
    "\n",
    "$$ \\Theta(s) = H(s)[lX(s) - A(s)] $$\n",
    "\n",
    "where, $H(s) = 1/(Ls^2 - g)$.\n",
    "\n",
    "This system is not stable due to its positive pole at $s = \\sqrt{g/l}$.\n",
    "\n",
    "Now consider the feedback system with, \n",
    "\n",
    "$$ a(t) = K_1 \\theta(t) + K_2 \\frac{d\\theta(t)}{dt} $$\n",
    "\n",
    "Including the feedback this way results in a new expression for $\\Theta(s)$ : \n",
    "\n",
    "$$ \\Theta(s) = \\frac{lH(s)}{1 + G(s)H(s)} X(s) $$\n",
    "\n",
    "where $G(s) = K_1 + K_2s$.\n",
    "\n",
    "Hence, the new poles of the system become, \n",
    "\n",
    "$$ s = -\\frac{K_2}{2l} \\pm \\sqrt{\\bigg(\\frac{K_2}{2l}\\bigg)^2 - \\bigg(\\frac{K_1-g}{l}\\bigg)} $$\n",
    "\n"
   ],
   "cell_type": "markdown",
   "metadata": {}
  },
  {
   "source": [
    "The resulting feedback system can be shown by the following block diagram."
   ],
   "cell_type": "markdown",
   "metadata": {}
  },
  {
   "cell_type": "markdown",
   "metadata": {
    "metadata": {
     "deletable": false,
     "editable": false,
     "trusted": true
    }
   },
   "source": [
    "![title](https://drive.google.com/uc?id=1Ao7NrHdqxugmNqtfAzz6fmxDX11Ghme0)"
   ]
  },
  {
   "source": [
    "The behaviour of this system can be controlled by manipulating $K_1$ and $K_2$ values, and are known as the propotional and differential constants, respectively.\n",
    "\n",
    "An interesting video of a cart pole system in practice : https://www.youtube.com/watch?v=XWhGjxdug0o"
   ],
   "cell_type": "markdown",
   "metadata": {}
  },
  {
   "source": [
    "Run the following cells to mount the google drive and install some dependencies required for this part. "
   ],
   "cell_type": "markdown",
   "metadata": {}
  },
  {
   "source": [
    "from google.colab import drive\n",
    "drive.mount('/content/drive')"
   ],
   "cell_type": "code",
   "metadata": {},
   "execution_count": null,
   "outputs": []
  },
  {
   "source": [
    "Navigate to the the EN1060_SnS_Lab_4 folder."
   ],
   "cell_type": "markdown",
   "metadata": {}
  },
  {
   "cell_type": "code",
   "execution_count": null,
   "metadata": {},
   "outputs": [],
   "source": [
    "# edit the path\n",
    "% cd path/to/EN1060_SnS_Lab_4"
   ]
  },
  {
   "source": [
    "Run the following cell to install the dependencies."
   ],
   "cell_type": "markdown",
   "metadata": {}
  },
  {
   "cell_type": "code",
   "execution_count": null,
   "metadata": {},
   "outputs": [],
   "source": [
    "#installing dependencies\n",
    "!apt-get -qq -y install libcusparse8.0 libnvrtc8.0 libnvtoolsext1 > /dev/null\n",
    "!ln -snf /usr/lib/x86_64-linux-gnu/libnvrtc-builtins.so.8.0 /usr/lib/x86_64-linux-gnu/libnvrtc-builtins.so\n",
    "!apt-get -qq -y install xvfb freeglut3-dev ffmpeg> /dev/null\n",
    "!pip install gym==0.17.3\n",
    "!pip install pyglet==1.5.0\n",
    "!pip install pyopengl\n",
    "!pip install pyvirtualdisplay"
   ]
  },
  {
   "source": [
    "Navigate to the gym-sns folder."
   ],
   "cell_type": "markdown",
   "metadata": {}
  },
  {
   "cell_type": "code",
   "execution_count": null,
   "metadata": {},
   "outputs": [],
   "source": [
    "cd gym-sns/"
   ]
  },
  {
   "source": [
    "Install gym_sns library."
   ],
   "cell_type": "markdown",
   "metadata": {}
  },
  {
   "source": [
    "pip install . "
   ],
   "cell_type": "code",
   "metadata": {},
   "execution_count": null,
   "outputs": []
  },
  {
   "source": [
    "Complete the code for function sys_pole in cell[[20]], which generate the poles of the system for given $k_1, k_2$ values."
   ],
   "cell_type": "markdown",
   "metadata": {}
  },
  {
   "cell_type": "code",
   "execution_count": null,
   "metadata": {},
   "outputs": [],
   "source": [
    "# cell[20]\n",
    "\n",
    "import gym\n",
    "import gym_sns\n",
    "import matplotlib.pyplot as plt\n",
    "import matplotlib.animation\n",
    "from pyvirtualdisplay import Display\n",
    "from IPython.display import HTML\n",
    "import numpy as np\n",
    "import cmath\n",
    "from IPython import display\n",
    "import time\n",
    "\n",
    "env = gym.make('CartPoleAcc-v0')\n",
    "env._max_episode_steps = 500\n",
    "thetas = {}\n",
    "\n",
    "def simulate(k1, k2, t_steps):\n",
    "    observation = env.reset()\n",
    "    action = 1\n",
    "    theta_t = []\n",
    "    \n",
    "    frames = []\n",
    "    for t in range(t_steps):\n",
    "        frames.append(env.render(mode='rgb_array'))\n",
    "        observation, reward, done, info = env.step(action)\n",
    "        theta, theta_dot = observation[2:]\n",
    "        action = k1*theta + k2*theta_dot\n",
    "        theta_t.append(theta)\n",
    "        if done:\n",
    "            break\n",
    "    env.close()   \n",
    "\n",
    "    return theta_t, frames\n",
    "\n",
    "def sys_pole(k1, k2):\n",
    "    '''Calculate poles of the system for given K1, K2 values\n",
    "\n",
    "    Args:\n",
    "        k1 (int/float): propotional constant.\n",
    "        k2 (int/float): differential constant. \n",
    "    \n",
    "    Returns:\n",
    "        p1, p2 (complex float): poles of the system\n",
    "    \n",
    "    Use cmath.sqrt, for instances of square roots, to handle the case of square root of negative numbers:\n",
    "        cmath.sqrt(x)       \n",
    "    '''\n",
    "    \n",
    "    g = 9.8 # acceleration due to gravity (ms-2)\n",
    "    l = .5 # distance to pole centre of gravity (m)\n",
    "    \n",
    "    # EDIT HERE\n",
    "    p1 = <-->\n",
    "    p2 = <-->\n",
    "    \n",
    "    return p1, p2\n",
    "    \n",
    "\n",
    "def pole_plot(poles, k1, k2, ax, show=True):      \n",
    "    \n",
    "    ax.plot([pole.real  for pole in poles], [pole.imag for pole in poles], 'x', markersize=10, label=f'k1 = {k1}, k2 = {k2}')\n",
    "    ax.grid(True)\n",
    "    ax.legend()\n",
    "    ax.set_xlabel(r'$\\Re$')\n",
    "    ax.set_ylabel(r'$\\Im$')\n",
    "            \n",
    "    if show:\n",
    "        plt.show()\n",
    "\n",
    "def cart_pole_angle_plot(k1, k2, theta_t, ax, show=True):\n",
    "    ax.plot(theta_t, '-', label = f'k1 = {k1}, k2 = {k2}')\n",
    "    ax.grid(True)\n",
    "    ax.legend()\n",
    "    ax.set_xlabel(r'$t$')\n",
    "    ax.set_ylabel(r'$\\theta$')\n",
    "    if show:\n",
    "        plt.show()\n",
    "\n",
    "def plot_axes(ax, show=True):\n",
    "    ax.set_xlim([-max(abs(ax.get_xlim()[0]), abs(ax.get_xlim()[1]))-1, max(abs(ax.get_xlim()[0]), abs(ax.get_ylim()[1]))+1])\n",
    "    ax.set_ylim([-max(abs(ax.get_ylim()[0]), abs(ax.get_ylim()[1]))-1, max(abs(ax.get_ylim()[0]), abs(ax.get_ylim()[1]))+1])\n",
    "    ax.plot([ax.get_xlim()[0], ax.get_xlim()[1]], [0, 0], 'k')\n",
    "    ax.plot([0, 0], [ax.get_ylim()[0], ax.get_ylim()[1]], 'k')\n",
    "    \n",
    "    if show:\n",
    "        plt.show()"
   ]
  },
  {
   "source": [
    "Run cell[[21-1]] and cell[[21]] and observe behavior of the Cartpole. Change $k_1, k_2$ values and observe how the system behavior change. To play the animation, click the \"&#9658;\" button. "
   ],
   "cell_type": "markdown",
   "metadata": {}
  },
  {
   "cell_type": "code",
   "execution_count": null,
   "metadata": {},
   "outputs": [],
   "source": [
    "# cell[21-1]\n",
    "\n",
    "display = Display(visible=0, size=(1024, 768))\n",
    "display.start()"
   ]
  },
  {
   "cell_type": "code",
   "execution_count": null,
   "metadata": {},
   "outputs": [],
   "source": [
    "# cell[21]\n",
    "\n",
    "# CHANGE HERE\n",
    "k1 = <--> # K1\n",
    "k2 = <--> # K2\n",
    "\n",
    "t_steps = 150 # no. of time frames in simulation \n",
    "\n",
    "# simulate the cartpole system\n",
    "theta_t, frames = simulate(k1, k2, t_steps)\n",
    "print(len(theta_t))\n",
    "\n",
    "# run the animation\n",
    "plt.figure(figsize=(frames[0].shape[1] / 72.0, frames[0].shape[0] / 72.0), dpi = 72)\n",
    "patch = plt.imshow(frames[0])\n",
    "plt.axis('off')\n",
    "def animate(i):\n",
    "  patch.set_data(frames[i])\n",
    "  plt.title(f'Simulating for k1 = {k1}, k2 = {k2}\\n t= {i}')\n",
    "ani = matplotlib.animation.FuncAnimation(plt.gcf(), animate, frames=len(frames), interval = 50)\n",
    "HTML(ani.to_jshtml())"
   ]
  },
  {
   "source": [
    "Run cell[[22]] and observe the poles of the system for the given $k_1, k_2$ values and the corresponding $\\theta$ variation of the pole."
   ],
   "cell_type": "markdown",
   "metadata": {}
  },
  {
   "cell_type": "code",
   "execution_count": null,
   "metadata": {
    "scrolled": false
   },
   "outputs": [],
   "source": [
    "# cell[22]\n",
    "\n",
    "fig, axes = plt.subplots(1, 2, figsize=(18,9))\n",
    "poles = sys_pole(k1, k2) # obtain poles for the system\n",
    "pole_plot(poles, k1, k2, axes[0], show=False) # plot poles of the system \n",
    "plot_axes(axes[0], show=False) \n",
    "cart_pole_angle_plot(k1, k2, theta_t, axes[1]) # plot theta variation"
   ]
  },
  {
   "source": [
    "Run cell[[23]] and observe the system behavior for different $k_1$ values with $k_2 = 20$."
   ],
   "cell_type": "markdown",
   "metadata": {}
  },
  {
   "cell_type": "code",
   "execution_count": null,
   "metadata": {},
   "outputs": [],
   "source": [
    "# cell[23]\n",
    "\n",
    "k1_list = [-10, 1, 5, 20, 100, 209, 500, 800, 1000]\n",
    "k2 = 20\n",
    "t_steps = 150\n",
    "\n",
    "theta_t_dict = {}\n",
    "for _k1 in k1_list: # simulate for different K1 values\n",
    "    theta, _ = simulate(_k1, k2, t_steps)\n",
    "    theta_t_dict[f'k1={_k1},k2={k2}'] = theta"
   ]
  },
  {
   "source": [
    "Run the simulations for each $k_1$ values in the ```k1_list``` and observe the changes."
   ],
   "cell_type": "markdown",
   "metadata": {}
  },
  {
   "cell_type": "code",
   "execution_count": null,
   "metadata": {},
   "outputs": [],
   "source": [
    "# cell[23-1]\n",
    "\n",
    "# run simulation\n",
    "# CHANGE HERE\n",
    "k1 = <--> # K1\n",
    "\n",
    "k2 = 20 # K2\n",
    "t_steps = 150 # no. of time frames in simulation \n",
    "\n",
    "# simulate the cartpole system\n",
    "theta_t, frames = simulate(k1, k2, t_steps)\n",
    "\n",
    "# run the animation\n",
    "plt.figure(figsize=(frames[0].shape[1] / 72.0, frames[0].shape[0] / 72.0), dpi = 72)\n",
    "patch = plt.imshow(frames[0])\n",
    "plt.axis('off')\n",
    "def animate(i):\n",
    "  patch.set_data(frames[i])\n",
    "  plt.title(f'Simulating for k1 = {k1}, k2 = {k2}\\n t= {i}')\n",
    "ani = matplotlib.animation.FuncAnimation(plt.gcf(), animate, frames=len(frames), interval = 50)\n",
    "HTML(ani.to_jshtml())"
   ]
  },
  {
   "source": [
    "Run cell[[24]] and observe the pole positions of the system for different $k_1$ values and\n",
    "the corresponding $\\theta$ variation of the pole."
   ],
   "cell_type": "markdown",
   "metadata": {}
  },
  {
   "cell_type": "code",
   "execution_count": null,
   "metadata": {},
   "outputs": [],
   "source": [
    "# cell[24]\n",
    "\n",
    "# Plot pole positions and theta variations on the same subplots\n",
    "pairs = [[_k1, k2] for _k1 in k1_list]\n",
    "fig, axes = plt.subplots(1, 2, figsize=(18,9))\n",
    "for _k1, _k2 in pairs:\n",
    "    poles = sys_pole(_k1, _k2)\n",
    "    pole_plot(poles, _k1, _k2, axes[0], show=False)\n",
    "    cart_pole_angle_plot(_k1, _k2, theta_t_dict[f'k1={_k1},k2={_k2}'], axes[1], show=False)\n",
    "plot_axes(axes[0])"
   ]
  },
  {
   "source": [
    "Run cell[[25]] to close the simulation environment."
   ],
   "cell_type": "markdown",
   "metadata": {}
  },
  {
   "cell_type": "code",
   "execution_count": null,
   "metadata": {},
   "outputs": [],
   "source": [
    "# cell[25]\n",
    "\n",
    "# close the simulation environment\n",
    "env.close()"
   ]
  },
  {
   "source": [
    "Comment on the relationship between the pole position and the corresponding $\\theta$ variation of the pole."
   ],
   "cell_type": "markdown",
   "metadata": {}
  },
  {
   "source": [
    "<-- type your answer here -->"
   ],
   "cell_type": "markdown",
   "metadata": {}
  }
 ],
 "metadata": {
  "kernelspec": {
   "display_name": "Python 3",
   "language": "python",
   "name": "python3"
  },
  "language_info": {
   "codemirror_mode": {
    "name": "ipython",
    "version": 3
   },
   "file_extension": ".py",
   "mimetype": "text/x-python",
   "name": "python",
   "nbconvert_exporter": "python",
   "pygments_lexer": "ipython3",
   "version": "3.7.3-final"
  }
 },
 "nbformat": 4,
 "nbformat_minor": 2
}