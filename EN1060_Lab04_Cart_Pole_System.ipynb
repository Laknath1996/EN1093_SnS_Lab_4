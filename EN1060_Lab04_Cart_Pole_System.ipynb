{
 "cells": [
  {
   "source": [
    "![](https://drive.google.com/uc?id=174GvIzMMyQRPI7nMieOCYl3BKth-YDKu)"
   ],
   "cell_type": "markdown",
   "metadata": {}
  },
  {
   "source": [
    "---\n",
    "**Experiment 4: $z$ - Transform and Laplace Transform**\n",
    "\n",
    "\n",
    "---\n",
    "\n",
    "**Objective:** To analyze signals and systems using z-transforms and Laplace transforms.\n",
    "\n",
    "**Outcome:**   After successfully completion of this session, the student would be able to  \n",
    "\n",
    "* Find z-transforms and inverses of signals using python\n",
    "* Identify discrete-time filters\n",
    "* Apply filters on discrete-time signals\n",
    "\n",
    "**Equipment Required:** \n",
    "*   A personal computer.\n",
    "*   Python with NumPy, SciPy, Matplotlib.\n",
    "*   Speakers\n",
    "\n",
    "**Components Required:** None\n",
    "\n",
    "---\n"
   ],
   "cell_type": "markdown",
   "metadata": {}
  },
  {
   "source": [
    "## Application of Laplace transform in analyzing the stability of a system. "
   ],
   "cell_type": "markdown",
   "metadata": {}
  },
  {
   "cell_type": "markdown",
   "metadata": {},
   "source": [
    "### Cart pole : An Analysis of the Effect of Poles on the System Behaviour"
   ]
  },
  {
   "cell_type": "markdown",
   "metadata": {
    "metadata": {
     "deletable": false,
     "editable": false,
     "trusted": true
    }
   },
   "source": [
    "\n",
    "![](https://drive.google.com/uc?id=1uZCuV6BqLB373sBITZMWK2IDpV0d6Fys)\n"
   ]
  },
  {
   "source": [
    "A Cartpole system comprise of a pole mounted on a cart, that engages in a reverse pendulum motion. Here $\\theta(t)$, $a(t)$, $x(t)$ are angle of the pole created with the vertical, horizontal acceleration of the cart, angular velocity of the pole due to its weight at a given time $t$, respectively. Pole length is given by $L$ and the acceleration due to gravity is given by $g$.\n",
    "\n",
    "When the system is not provided with any external force, the system is unstable. Mathematical modeling of the system is described below. \n",
    "\n",
    "However, the system can be made stable by controlling a parameter such as the acceleration of the cart, with respect to the motion of the pole. This means that the system can take in to account its previous state to control its current state. When this happens, we say that the system is using “feedback” to control itself. In the case of this cart pole system, this feedback controlling helps system balance pole. Check out this interesting video get a better insight on this : https://www.youtube.com/watch?v=XWhGjxdug0o"
   ],
   "cell_type": "markdown",
   "metadata": {}
  },
  {
   "source": [
    "Equation of the above system can be given by the expression,\n",
    "\n",
    "$$ l \\frac{d^2 \\theta(t)}{dt^2} = g \\sin[\\theta(t)] + lx(t) - a(t) \\cos[\\theta(t)]$$\n",
    "\n",
    "where $l=L/2$, $a(t)$ is the acceleration of the cart. For small angles of $\\theta(t)$ we can assume,\n",
    "\n",
    "$$ \\sin [\\theta(t)] \\approx \\theta(t) $$\n",
    "$$ \\cos [\\theta(t)] \\approx 1 $$\n",
    "\n",
    "These assumptions reduce the above expression to, \n",
    "\n",
    "$$ l \\frac{d^2 \\theta(t)}{dt^2} = g \\theta(t) + lx(t) -a(t) $$\n",
    "\n",
    "Applying Laplace transform to this expression, we get\n",
    "\n",
    "$$ \\Theta(s) = H(s)[lX(s) - A(s)] $$\n",
    "\n",
    "where, $H(s) = 1/(Ls^2 - g)$.\n",
    "\n",
    "This system is not stable due to its positive pole at $s = \\sqrt{g/l}$.\n",
    "\n",
    "Now consider the feedback system with, \n",
    "\n",
    "$$ a(t) = K_1 \\theta(t) + K_2 \\frac{d\\theta(t)}{dt} $$\n",
    "\n",
    "Including the feedback this way results in a new expression for $\\Theta(s)$ : \n",
    "\n",
    "$$ \\Theta(s) = \\frac{lH(s)}{1 + G(s)H(s)} X(s) $$\n",
    "\n",
    "where $G(s) = K_1 + K_2s$.\n",
    "\n",
    "Hence, the new poles of the system become, \n",
    "\n",
    "$$ s = -\\frac{K_2}{2l} \\pm \\sqrt{\\bigg(\\frac{K_2}{2l}\\bigg)^2 - \\bigg(\\frac{K_1-g}{l}\\bigg)} $$\n",
    "\n"
   ],
   "cell_type": "markdown",
   "metadata": {}
  },
  {
   "source": [
    "The resulting feedback system can be shown by the following block diagram."
   ],
   "cell_type": "markdown",
   "metadata": {}
  },
  {
   "cell_type": "markdown",
   "metadata": {
    "metadata": {
     "deletable": false,
     "editable": false,
     "trusted": true
    }
   },
   "source": [
    "![title](https://drive.google.com/uc?id=1Ao7NrHdqxugmNqtfAzz6fmxDX11Ghme0)"
   ]
  },
  {
   "source": [
    "The behaviour of this system can be controlled by manipulating $K_1$ and $K_2$ values, and are known as the propotional and differential constants, respectively."
   ],
   "cell_type": "markdown",
   "metadata": {}
  },
  {
   "source": [
    "Run the following cells to mount the google drive and install some dependencies required for this part. "
   ],
   "cell_type": "markdown",
   "metadata": {}
  },
  {
   "source": [
    "from google.colab import drive\n",
    "drive.mount('/content/drive')"
   ],
   "cell_type": "code",
   "metadata": {},
   "execution_count": null,
   "outputs": []
  },
  {
   "source": [
    "Navigate to the the EN1060_SnS_Lab_4 folder."
   ],
   "cell_type": "markdown",
   "metadata": {}
  },
  {
   "cell_type": "code",
   "execution_count": null,
   "metadata": {},
   "outputs": [],
   "source": [
    "# edit the path\n",
    "% cd path/to/EN1060_SnS_Lab_4"
   ]
  },
  {
   "source": [
    "Run the following cell to install the dependencies."
   ],
   "cell_type": "markdown",
   "metadata": {}
  },
  {
   "cell_type": "code",
   "execution_count": null,
   "metadata": {},
   "outputs": [],
   "source": [
    "#installing dependencies\n",
    "!apt-get -qq -y install libcusparse8.0 libnvrtc8.0 libnvtoolsext1 > /dev/null\n",
    "!ln -snf /usr/lib/x86_64-linux-gnu/libnvrtc-builtins.so.8.0 /usr/lib/x86_64-linux-gnu/libnvrtc-builtins.so\n",
    "!apt-get -qq -y install xvfb freeglut3-dev ffmpeg> /dev/null\n",
    "!pip install gym==0.17.3\n",
    "!pip install pyglet==1.5.0\n",
    "!pip install pyopengl\n",
    "!pip install pyvirtualdisplay"
   ]
  },
  {
   "source": [
    "Navigate to the gym-sns folder."
   ],
   "cell_type": "markdown",
   "metadata": {}
  },
  {
   "cell_type": "code",
   "execution_count": null,
   "metadata": {},
   "outputs": [],
   "source": [
    "cd gym-sns/"
   ]
  },
  {
   "source": [
    "Install gym_sns library."
   ],
   "cell_type": "markdown",
   "metadata": {}
  },
  {
   "source": [
    "pip install . "
   ],
   "cell_type": "code",
   "metadata": {},
   "execution_count": null,
   "outputs": []
  },
  {
   "source": [
    "Complete the code for function sys_pole in cell[[20]], which generate the poles of the system for given $k_1, k_2$ values."
   ],
   "cell_type": "markdown",
   "metadata": {}
  },
  {
   "cell_type": "code",
   "execution_count": null,
   "metadata": {},
   "outputs": [],
   "source": [
    "# cell[20]\n",
    "\n",
    "import gym\n",
    "import gym_sns\n",
    "import matplotlib.pyplot as plt\n",
    "import matplotlib.animation\n",
    "from pyvirtualdisplay import Display\n",
    "from IPython.display import HTML\n",
    "import numpy as np\n",
    "import cmath\n",
    "from IPython import display\n",
    "import time\n",
    "\n",
    "env = gym.make('CartPoleAcc-v0')\n",
    "env._max_episode_steps = 500\n",
    "thetas = {}\n",
    "\n",
    "def simulate(k1, k2, t_steps):\n",
    "    observation = env.reset()\n",
    "    action = 1\n",
    "    theta_t = []\n",
    "    \n",
    "    frames = []\n",
    "    for t in range(t_steps):\n",
    "        frames.append(env.render(mode='rgb_array'))\n",
    "        observation, reward, done, info = env.step(action)\n",
    "        theta, theta_dot = observation[2:]\n",
    "        action = k1*theta + k2*theta_dot\n",
    "        theta_t.append(theta)\n",
    "        if done:\n",
    "            break\n",
    "    env.close()   \n",
    "\n",
    "    return theta_t, frames\n",
    "\n",
    "def sys_pole(k1, k2):\n",
    "    '''Calculate poles of the system for given K1, K2 values\n",
    "\n",
    "    Args:\n",
    "        k1 (int/float): propotional constant.\n",
    "        k2 (int/float): differential constant. \n",
    "    \n",
    "    Returns:\n",
    "        p1, p2 (complex float): poles of the system\n",
    "    \n",
    "    Use cmath.sqrt, for instances of square roots, to handle the case of square root of negative numbers:\n",
    "        cmath.sqrt(x)       \n",
    "    '''\n",
    "    \n",
    "    g = 9.8 # acceleration due to gravity (ms-2)\n",
    "    l = .5 # distance to pole centre of gravity (m)\n",
    "    \n",
    "    # EDIT HERE\n",
    "    p1 = <-->\n",
    "    p2 = <-->\n",
    "    \n",
    "    return p1, p2\n",
    "    \n",
    "\n",
    "def pole_plot(poles, k1, k2, ax, show=True):      \n",
    "    \n",
    "    ax.plot([pole.real  for pole in poles], [pole.imag for pole in poles], 'x', markersize=10, label=f'k1 = {k1}, k2 = {k2}')\n",
    "    ax.grid(True)\n",
    "    ax.legend()\n",
    "    ax.set_xlabel(r'$\\Re$')\n",
    "    ax.set_ylabel(r'$\\Im$')\n",
    "            \n",
    "    if show:\n",
    "        plt.show()\n",
    "\n",
    "def cart_pole_angle_plot(k1, k2, theta_t, ax, show=True):\n",
    "    ax.plot(theta_t, '-', label = f'k1 = {k1}, k2 = {k2}')\n",
    "    ax.grid(True)\n",
    "    ax.legend()\n",
    "    ax.set_xlabel(r'$t$')\n",
    "    ax.set_ylabel(r'$\\theta$')\n",
    "    if show:\n",
    "        plt.show()\n",
    "\n",
    "def plot_axes(ax, show=True):\n",
    "    ax.set_xlim([-max(abs(ax.get_xlim()[0]), abs(ax.get_xlim()[1]))-1, max(abs(ax.get_xlim()[0]), abs(ax.get_ylim()[1]))+1])\n",
    "    ax.set_ylim([-max(abs(ax.get_ylim()[0]), abs(ax.get_ylim()[1]))-1, max(abs(ax.get_ylim()[0]), abs(ax.get_ylim()[1]))+1])\n",
    "    ax.plot([ax.get_xlim()[0], ax.get_xlim()[1]], [0, 0], 'k')\n",
    "    ax.plot([0, 0], [ax.get_ylim()[0], ax.get_ylim()[1]], 'k')\n",
    "    \n",
    "    if show:\n",
    "        plt.show()"
   ]
  },
  {
   "source": [
    "Run cell[[21-1]] and cell[[21]] and observe behavior of the Cartpole. Change $k_1, k_2$ (e.g $k_1=1000, k_2=20$) values and observe how the system behavior change. To play the animation, click the \"&#9658;\" button. "
   ],
   "cell_type": "markdown",
   "metadata": {}
  },
  {
   "cell_type": "code",
   "execution_count": null,
   "metadata": {},
   "outputs": [],
   "source": [
    "# cell[21-1]\n",
    "\n",
    "display = Display(visible=0, size=(1024, 768))\n",
    "display.start()"
   ]
  },
  {
   "cell_type": "code",
   "execution_count": null,
   "metadata": {},
   "outputs": [],
   "source": [
    "# cell[21]\n",
    "\n",
    "# CHANGE HERE\n",
    "k1 = <--> # K1\n",
    "k2 = <--> # K2\n",
    "\n",
    "t_steps = 150 # no. of time frames in simulation \n",
    "\n",
    "# simulate the cartpole system\n",
    "theta_t, frames = simulate(k1, k2, t_steps)\n",
    "\n",
    "# run the animation\n",
    "plt.figure(figsize=(frames[0].shape[1] / 72.0, frames[0].shape[0] / 72.0), dpi = 72)\n",
    "patch = plt.imshow(frames[0])\n",
    "plt.axis('off')\n",
    "def animate(i):\n",
    "  patch.set_data(frames[i])\n",
    "  plt.title(f'Simulating for k1 = {k1}, k2 = {k2}\\n t= {i}')\n",
    "ani = matplotlib.animation.FuncAnimation(plt.gcf(), animate, frames=len(frames), interval = 50)\n",
    "HTML(ani.to_jshtml())"
   ]
  },
  {
   "source": [
    "Run cell[[22]] and observe the poles of the system for the given $k_1, k_2$ values and the corresponding $\\theta$ variation of the pole."
   ],
   "cell_type": "markdown",
   "metadata": {}
  },
  {
   "cell_type": "code",
   "execution_count": null,
   "metadata": {
    "scrolled": false
   },
   "outputs": [],
   "source": [
    "# cell[22]\n",
    "\n",
    "fig, axes = plt.subplots(1, 2, figsize=(18,9))\n",
    "poles = sys_pole(k1, k2) # obtain poles for the system\n",
    "pole_plot(poles, k1, k2, axes[0], show=False) # plot poles of the system \n",
    "plot_axes(axes[0], show=False) \n",
    "cart_pole_angle_plot(k1, k2, theta_t, axes[1]) # plot theta variation"
   ]
  },
  {
   "source": [
    "Run cell[[23]] and observe the system behavior for different $k_1$ values with $k_2 = 20$."
   ],
   "cell_type": "markdown",
   "metadata": {}
  },
  {
   "cell_type": "code",
   "execution_count": null,
   "metadata": {},
   "outputs": [],
   "source": [
    "# cell[23]\n",
    "\n",
    "k1_list = [-10, 1, 5, 20, 100, 209, 500, 800, 1000]\n",
    "k2 = 20\n",
    "t_steps = 150\n",
    "\n",
    "theta_t_dict = {}\n",
    "for _k1 in k1_list: # simulate for different K1 values\n",
    "    theta, _ = simulate(_k1, k2, t_steps)\n",
    "    theta_t_dict[f'k1={_k1},k2={k2}'] = theta"
   ]
  },
  {
   "source": [
    "Run the simulations for each $k_1$ values in the ```k1_list``` and observe the changes."
   ],
   "cell_type": "markdown",
   "metadata": {}
  },
  {
   "cell_type": "code",
   "execution_count": null,
   "metadata": {},
   "outputs": [],
   "source": [
    "# cell[23-1]\n",
    "\n",
    "# run simulation\n",
    "# CHANGE HERE\n",
    "k1 = <--> # K1\n",
    "\n",
    "k2 = 20 # K2\n",
    "t_steps = 150 # no. of time frames in simulation \n",
    "\n",
    "# simulate the cartpole system\n",
    "theta_t, frames = simulate(k1, k2, t_steps)\n",
    "\n",
    "# run the animation\n",
    "plt.figure(figsize=(frames[0].shape[1] / 72.0, frames[0].shape[0] / 72.0), dpi = 72)\n",
    "patch = plt.imshow(frames[0])\n",
    "plt.axis('off')\n",
    "def animate(i):\n",
    "  patch.set_data(frames[i])\n",
    "  plt.title(f'Simulating for k1 = {k1}, k2 = {k2}\\n t= {i}')\n",
    "ani = matplotlib.animation.FuncAnimation(plt.gcf(), animate, frames=len(frames), interval = 50)\n",
    "HTML(ani.to_jshtml())"
   ]
  },
  {
   "source": [
    "Run cell[[24]] and observe the pole positions of the system for different $k_1$ values and\n",
    "the corresponding $\\theta$ variation of the pole."
   ],
   "cell_type": "markdown",
   "metadata": {}
  },
  {
   "cell_type": "code",
   "execution_count": null,
   "metadata": {},
   "outputs": [],
   "source": [
    "# cell[24]\n",
    "\n",
    "# Plot pole positions and theta variations on the same subplots\n",
    "pairs = [[_k1, k2] for _k1 in k1_list]\n",
    "fig, axes = plt.subplots(1, 2, figsize=(18,9))\n",
    "for _k1, _k2 in pairs:\n",
    "    poles = sys_pole(_k1, _k2)\n",
    "    pole_plot(poles, _k1, _k2, axes[0], show=False)\n",
    "    cart_pole_angle_plot(_k1, _k2, theta_t_dict[f'k1={_k1},k2={_k2}'], axes[1], show=False)\n",
    "plot_axes(axes[0])"
   ]
  },
  {
   "source": [
    "Run cell[[25]] to close the simulation environment."
   ],
   "cell_type": "markdown",
   "metadata": {}
  },
  {
   "cell_type": "code",
   "execution_count": null,
   "metadata": {},
   "outputs": [],
   "source": [
    "# cell[25]\n",
    "\n",
    "# close the simulation environment\n",
    "env.close()"
   ]
  },
  {
   "source": [
    "Comment on the relationship between the pole position and the corresponding $\\theta$ variation of the pole."
   ],
   "cell_type": "markdown",
   "metadata": {}
  },
  {
   "source": [
    "<-- type your answer here -->"
   ],
   "cell_type": "markdown",
   "metadata": {}
  }
 ],
 "metadata": {
  "kernelspec": {
   "display_name": "Python 3",
   "language": "python",
   "name": "python3"
  },
  "language_info": {
   "codemirror_mode": {
    "name": "ipython",
    "version": 3
   },
   "file_extension": ".py",
   "mimetype": "text/x-python",
   "name": "python",
   "nbconvert_exporter": "python",
   "pygments_lexer": "ipython3",
   "version": "3.7.3-final"
  }
 },
 "nbformat": 4,
 "nbformat_minor": 2
}